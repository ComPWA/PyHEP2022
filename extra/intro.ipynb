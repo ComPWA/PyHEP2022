{
 "cells": [
  {
   "cell_type": "markdown",
   "metadata": {},
   "source": [
    "# PyHEP 2022 Notebook Talk ― intro"
   ]
  },
  {
   "cell_type": "code",
   "execution_count": null,
   "metadata": {
    "jupyter": {
     "source_hidden": true
    },
    "tags": []
   },
   "outputs": [],
   "source": [
    "%matplotlib widget\n",
    "import logging\n",
    "import os\n",
    "\n",
    "import ipywidgets\n",
    "import matplotlib.pyplot as plt\n",
    "import numpy as np\n",
    "from ampform.io import aslatex\n",
    "from IPython.display import Math\n",
    "\n",
    "os.environ[\"TF_CPP_MIN_LOG_LEVEL\"] = \"3\"\n",
    "JAX_LOGGER = logging.getLogger(\"absl\")\n",
    "JAX_LOGGER.setLevel(logging.ERROR)\n",
    "\n",
    "\n",
    "def plot_distributions():\n",
    "    fig, (ax1, ax2) = plt.subplots(figsize=(7, 4.3), ncols=2)\n",
    "    fig.canvas.toolbar_visible = False\n",
    "    fig.canvas.header_visible = False\n",
    "    fig.canvas.footer_visible = False\n",
    "    ax1.hist2d(*cartesian_data.values(), bins=100, cmap=plt.cm.coolwarm)\n",
    "    ax2.hist2d(polar_data[\"phi\"], polar_data[\"r\"], bins=100, cmap=plt.cm.coolwarm)\n",
    "    fig.suptitle(\"Hit-and-miss intensity distribution\")\n",
    "    ax1.set_title(\"cartesian\")\n",
    "    ax2.set_title(\"polar\")\n",
    "    ax1.set_xlabel(\"$x$\")\n",
    "    ax1.set_ylabel(\"$y$\")\n",
    "    ax2.set_xlabel(R\"$\\phi$\")\n",
    "    ax2.set_ylabel(\"$r$\")\n",
    "    ax1.set_xticks([])\n",
    "    ax1.set_yticks([])\n",
    "    ax2.set_xticks([-np.pi / 2, 0, np.pi / 2])\n",
    "    ax2.set_yticks([])\n",
    "    ax2.set_xticklabels([r\"$-\\frac{\\pi}{2}$\", \"0\", r\"$+\\frac{\\pi}{2}$\"])\n",
    "    fig.tight_layout()\n",
    "    plt.show()\n",
    "\n",
    "\n",
    "def plot_interactive():\n",
    "    size = 200\n",
    "    X, Y = np.meshgrid(\n",
    "        np.linspace(-5, +5, size),\n",
    "        np.linspace(-5, +5, size),\n",
    "    )\n",
    "    cartesian_domain = {\"x\": X, \"y\": Y}\n",
    "    polar_domain = converter(cartesian_domain)\n",
    "\n",
    "    fig, ax_interactive = plt.subplots(figsize=(5, 5), tight_layout=True)\n",
    "    fig.canvas.toolbar_visible = False\n",
    "    fig.canvas.header_visible = False\n",
    "    fig.canvas.footer_visible = False\n",
    "    ax_interactive.set_xticks([])\n",
    "    ax_interactive.set_yticks([])\n",
    "    ax_interactive.set_xlabel(\"$x$\")\n",
    "    ax_interactive.set_ylabel(\"$y$\")\n",
    "    color_mesh = None\n",
    "\n",
    "    @ipywidgets.interact(\n",
    "        dphi=ipywidgets.FloatSlider(value=0, min=0, max=np.pi, step=np.pi / 100),\n",
    "        k_r=(0, 3.0, np.pi / 100),\n",
    "        k_phi=(0, 6),\n",
    "        sigma=(0.1, 5),\n",
    "    )\n",
    "    def plot(dphi, k_r, k_phi, sigma):\n",
    "        nonlocal color_mesh, X, Y\n",
    "        polar_function.update_parameters(\n",
    "            {R\"\\Delta\\phi\": dphi, \"k_r\": k_r, \"k_phi\": k_phi, \"sigma\": sigma}\n",
    "        )\n",
    "        Z = polar_function(polar_domain)\n",
    "        if color_mesh is not None:\n",
    "            color_mesh.remove()\n",
    "        color_mesh = ax_interactive.pcolormesh(X, Y, Z, cmap=plt.cm.coolwarm)"
   ]
  },
  {
   "cell_type": "markdown",
   "metadata": {
    "tags": []
   },
   "source": [
    "## From mathematics to numerics"
   ]
  },
  {
   "cell_type": "code",
   "execution_count": null,
   "metadata": {},
   "outputs": [],
   "source": [
    "import sympy as sp\n",
    "\n",
    "x, y, a, b = sp.symbols(\"x y a b\")\n",
    "expression = x**3 + sp.sin(y / 5) ** 2\n",
    "expression"
   ]
  },
  {
   "cell_type": "code",
   "execution_count": null,
   "metadata": {},
   "outputs": [],
   "source": [
    "from tensorwaves.function.sympy import create_function\n",
    "\n",
    "numpy_function = create_function(expression, backend=\"numpy\")\n",
    "tf_function = create_function(expression, backend=\"tensorflow\")\n",
    "jax_function = create_function(expression, backend=\"jax\", use_cse=False)"
   ]
  },
  {
   "cell_type": "code",
   "execution_count": null,
   "metadata": {
    "tags": []
   },
   "outputs": [],
   "source": [
    "from tensorwaves.function import get_source_code\n",
    "\n",
    "src = get_source_code(jax_function)\n",
    "print(src)"
   ]
  },
  {
   "cell_type": "code",
   "execution_count": null,
   "metadata": {},
   "outputs": [],
   "source": [
    "sample_size = 1_000_000\n",
    "data = {\n",
    "    \"x\": np.random.uniform(-50, +50, sample_size),\n",
    "    \"y\": np.random.uniform(0.1, 2.0, sample_size),\n",
    "}"
   ]
  },
  {
   "cell_type": "code",
   "execution_count": null,
   "metadata": {},
   "outputs": [],
   "source": [
    "numpy_function(data)"
   ]
  },
  {
   "cell_type": "code",
   "execution_count": null,
   "metadata": {},
   "outputs": [],
   "source": [
    "tf_function(data)"
   ]
  },
  {
   "cell_type": "code",
   "execution_count": null,
   "metadata": {},
   "outputs": [],
   "source": [
    "jax_function(data)"
   ]
  },
  {
   "cell_type": "markdown",
   "metadata": {
    "tags": []
   },
   "source": [
    "## Data transformation"
   ]
  },
  {
   "cell_type": "code",
   "execution_count": null,
   "metadata": {},
   "outputs": [],
   "source": [
    "r, phi, dphi, k_phi, k_r, sigma = sp.symbols(R\"r phi \\Delta\\phi k_phi k_r sigma\")\n",
    "expression = (\n",
    "    sp.exp(-r / sigma) * sp.sin(k_r * r) ** 2 * sp.cos(k_phi * (phi + dphi)) ** 2\n",
    ")\n",
    "expression"
   ]
  },
  {
   "cell_type": "code",
   "execution_count": null,
   "metadata": {},
   "outputs": [],
   "source": [
    "from tensorwaves.function.sympy import create_parametrized_function\n",
    "\n",
    "polar_function = create_parametrized_function(\n",
    "    expression,\n",
    "    parameters={dphi: 0, k_r: 0.6, k_phi: 2, sigma: 2.5},\n",
    "    backend=\"jax\",\n",
    ")"
   ]
  },
  {
   "cell_type": "code",
   "execution_count": null,
   "metadata": {},
   "outputs": [],
   "source": [
    "cartesian_to_polar = {\n",
    "    r: sp.sqrt(x**2 + y**2),\n",
    "    phi: sp.Piecewise((0, sp.Eq(x, 0)), (sp.atan(y / x), True)),\n",
    "}"
   ]
  },
  {
   "cell_type": "code",
   "execution_count": null,
   "metadata": {
    "jupyter": {
     "source_hidden": true
    },
    "tags": []
   },
   "outputs": [],
   "source": [
    "Math(aslatex(cartesian_to_polar))"
   ]
  },
  {
   "cell_type": "code",
   "execution_count": null,
   "metadata": {},
   "outputs": [],
   "source": [
    "from tensorwaves.data import SympyDataTransformer\n",
    "\n",
    "converter = SympyDataTransformer.from_sympy(cartesian_to_polar, backend=\"numpy\")"
   ]
  },
  {
   "cell_type": "code",
   "execution_count": null,
   "metadata": {},
   "outputs": [],
   "source": [
    "from tensorwaves.data import (\n",
    "    IntensityDistributionGenerator,\n",
    "    NumpyDomainGenerator,\n",
    "    NumpyUniformRNG,\n",
    ")\n",
    "\n",
    "rng = NumpyUniformRNG()\n",
    "domain_generator = NumpyDomainGenerator(boundaries={\"x\": (-5, 5), \"y\": (-5, +5)})\n",
    "data_generator = IntensityDistributionGenerator(\n",
    "    domain_generator, polar_function, converter\n",
    ")\n",
    "cartesian_data = data_generator.generate(1_000_000, rng)\n",
    "polar_data = converter(cartesian_data)"
   ]
  },
  {
   "cell_type": "code",
   "execution_count": null,
   "metadata": {
    "jupyter": {
     "source_hidden": true
    },
    "tags": []
   },
   "outputs": [],
   "source": [
    "plot_distributions()"
   ]
  },
  {
   "cell_type": "code",
   "execution_count": null,
   "metadata": {
    "jupyter": {
     "source_hidden": true
    },
    "tags": []
   },
   "outputs": [],
   "source": [
    "plot_interactive()"
   ]
  }
 ],
 "metadata": {
  "colab": {
   "toc_visible": true
  },
  "kernelspec": {
   "display_name": "Python 3 (ipykernel)",
   "language": "python",
   "name": "python3"
  },
  "language_info": {
   "codemirror_mode": {
    "name": "ipython",
    "version": 3
   },
   "file_extension": ".py",
   "mimetype": "text/x-python",
   "name": "python",
   "nbconvert_exporter": "python",
   "pygments_lexer": "ipython3",
   "version": "3.8.13"
  }
 },
 "nbformat": 4,
 "nbformat_minor": 4
}
