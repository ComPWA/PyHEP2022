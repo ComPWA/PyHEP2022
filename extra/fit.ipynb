{
 "cells": [
  {
   "cell_type": "markdown",
   "metadata": {},
   "source": [
    "# PyHEP 2022 Notebook Talk ― fit"
   ]
  },
  {
   "cell_type": "code",
   "execution_count": null,
   "metadata": {
    "jupyter": {
     "source_hidden": true
    },
    "tags": []
   },
   "outputs": [],
   "source": [
    "import logging\n",
    "import os\n",
    "\n",
    "import black\n",
    "import matplotlib.pyplot as plt\n",
    "import numpy as np\n",
    "from IPython.display import Image\n",
    "from matplotlib.animation import PillowWriter\n",
    "from tensorwaves.optimizer.callbacks import Callback\n",
    "\n",
    "os.environ[\"TF_CPP_MIN_LOG_LEVEL\"] = \"3\"\n",
    "JAX_LOGGER = logging.getLogger(\"absl\")\n",
    "JAX_LOGGER.setLevel(logging.ERROR)\n",
    "\n",
    "\n",
    "def format_str(src: str) -> str:\n",
    "    return black.format_str(src, mode=black.FileMode())\n",
    "\n",
    "\n",
    "class FitAnimation(Callback):\n",
    "    def __init__(\n",
    "        self, data, function, binning, output_file, estimated_iterations, fps=15\n",
    "    ):\n",
    "        plt.ioff()\n",
    "        self.__function = function\n",
    "        self.__fig, (self.__ax1, self.__ax2) = plt.subplots(\n",
    "            figsize=(7, 7), nrows=2, tight_layout=True\n",
    "        )\n",
    "        self.__ax2.set_yticks(np.arange(-30, 80, 10))\n",
    "        self.__ax1.hist(data[\"x\"], bins=binning, alpha=0.7, density=True, label=\"data\")\n",
    "        self.__line = self.__ax1.plot(\n",
    "            binning,\n",
    "            self.__function({\"x\": binning}),\n",
    "            c=\"red\",\n",
    "            linewidth=2,\n",
    "            label=\"model\",\n",
    "        )[0]\n",
    "        self.__ax1.legend(loc=\"upper right\")\n",
    "\n",
    "        self.__par_lines = [\n",
    "            self.__ax2.plot(0, value, label=par)[0]\n",
    "            for par, value in self.__function.parameters.items()\n",
    "        ]\n",
    "        self.__ax2.set_xlim(0, estimated_iterations)\n",
    "        self.__ax2.set_title(\"Parameter values\")\n",
    "        self.__ax2.legend(\n",
    "            [\n",
    "                f\"${sp.latex(sp.Symbol(par_name))}$\"\n",
    "                for par_name in self.__function.parameters\n",
    "            ],\n",
    "            loc=\"upper right\",\n",
    "        )\n",
    "\n",
    "        self.__writer = PillowWriter(fps=fps)\n",
    "        self.__writer.setup(self.__fig, outfile=output_file)\n",
    "\n",
    "    def on_optimize_start(self, logs):\n",
    "        self._update_plot()\n",
    "\n",
    "    def on_optimize_end(self, logs):\n",
    "        self._update_plot()\n",
    "        self.__writer.finish()\n",
    "        plt.ion()\n",
    "\n",
    "    def on_iteration_end(self, iteration, logs):\n",
    "        self._update_plot()\n",
    "        self.__writer.finish()\n",
    "\n",
    "    def on_function_call_end(self, function_call, logs):\n",
    "        self._update_plot()\n",
    "\n",
    "    def _update_plot(self):\n",
    "        self._update_parametrization_plot()\n",
    "        self._update_traceback()\n",
    "        self.__writer.grab_frame()\n",
    "\n",
    "    def _update_parametrization_plot(self):\n",
    "        title = self._render_parameters(self.__function.parameters)\n",
    "        self.__ax1.set_title(title)\n",
    "        self.__line.set_ydata(self.__function({\"x\": binning}))\n",
    "\n",
    "    def _update_traceback(self):\n",
    "        for line in self.__par_lines:\n",
    "            par_name = line.get_label()\n",
    "            new_value = self.__function.parameters[par_name]\n",
    "            x = line.get_xdata()\n",
    "            x = [*x, x[-1] + 1]\n",
    "            y = [*line.get_ydata(), new_value]\n",
    "            line.set_xdata(x)\n",
    "            line.set_ydata(y)\n",
    "        y_values = np.array([line.get_ydata() for line in self.__par_lines])\n",
    "        self.__ax2.set_ylim(y_values.min() * 1.1, y_values.max() * 1.1)\n",
    "\n",
    "    @staticmethod\n",
    "    def _render_parameters(parameters):\n",
    "        values = []\n",
    "        for name, value in parameters.items():\n",
    "            symbol = sp.Dummy(name)\n",
    "            latex = sp.latex(symbol)\n",
    "            values.append(f\"{latex}={value:.2g}\")\n",
    "        return f'${\",\".join(values)}$'"
   ]
  },
  {
   "cell_type": "markdown",
   "metadata": {
    "tags": []
   },
   "source": [
    "## Performing a fit"
   ]
  },
  {
   "cell_type": "code",
   "execution_count": null,
   "metadata": {},
   "outputs": [],
   "source": [
    "import sympy as sp\n",
    "\n",
    "\n",
    "def gaussian(x, mu, sigma) -> sp.Expr:\n",
    "    return sp.exp(-(((x - mu) / sigma) ** 2) / 2)\n",
    "\n",
    "\n",
    "def poisson(x, k) -> sp.Expr:\n",
    "    return x**k * sp.exp(-x) / sp.factorial(k)"
   ]
  },
  {
   "cell_type": "code",
   "execution_count": null,
   "metadata": {},
   "outputs": [],
   "source": [
    "x, a, b, c, mu1, mu2, sigma1, sigma2 = sp.symbols(\"x (a:c) mu_(:2) sigma_(:2)\")\n",
    "expression_1d = (\n",
    "    a * gaussian(x, mu1, sigma1) + b * gaussian(x, mu2, sigma2) + c * poisson(x, k=2)\n",
    ")\n",
    "expression_1d"
   ]
  },
  {
   "cell_type": "code",
   "execution_count": null,
   "metadata": {},
   "outputs": [],
   "source": [
    "parameter_defaults = {\n",
    "    a: 0.15,\n",
    "    b: 0.05,\n",
    "    c: 0.3,\n",
    "    mu1: 1.0,\n",
    "    sigma1: 0.3,\n",
    "    mu2: 2.7,\n",
    "    sigma2: 0.5,\n",
    "}\n",
    "substituted_expr_1d = expression_1d.subs(parameter_defaults)\n",
    "substituted_expr_1d"
   ]
  },
  {
   "cell_type": "code",
   "execution_count": null,
   "metadata": {},
   "outputs": [],
   "source": [
    "x_range = (x, 0, 5)\n",
    "p1 = sp.plot(substituted_expr_1d, x_range, show=False, line_color=\"red\")\n",
    "p2 = sp.plot(*substituted_expr_1d.args, x_range, show=False, line_color=\"gray\")\n",
    "p2.append(p1[0])\n",
    "p2.show()"
   ]
  },
  {
   "cell_type": "code",
   "execution_count": null,
   "metadata": {},
   "outputs": [],
   "source": [
    "from tensorwaves.function.sympy import create_parametrized_function\n",
    "\n",
    "function_1d = create_parametrized_function(\n",
    "    expression=expression_1d,\n",
    "    parameters=parameter_defaults,\n",
    "    backend=\"jax\",\n",
    "    use_cse=False,\n",
    ")"
   ]
  },
  {
   "cell_type": "code",
   "execution_count": null,
   "metadata": {
    "tags": []
   },
   "outputs": [],
   "source": [
    "from tensorwaves.function import get_source_code\n",
    "\n",
    "src = get_source_code(function_1d)\n",
    "src = format_str(src)\n",
    "print(src)"
   ]
  },
  {
   "cell_type": "code",
   "execution_count": null,
   "metadata": {},
   "outputs": [],
   "source": [
    "from tensorwaves.data import NumpyDomainGenerator, NumpyUniformRNG\n",
    "\n",
    "rng = NumpyUniformRNG(seed=0)\n",
    "domain_generator = NumpyDomainGenerator(boundaries={\"x\": (0, 5)})\n",
    "domain = domain_generator.generate(1_000_000, rng)"
   ]
  },
  {
   "cell_type": "code",
   "execution_count": null,
   "metadata": {},
   "outputs": [],
   "source": [
    "from tensorwaves.data import IntensityDistributionGenerator\n",
    "\n",
    "data_generator = IntensityDistributionGenerator(domain_generator, function_1d)\n",
    "data = data_generator.generate(1_000_000, rng)"
   ]
  },
  {
   "cell_type": "code",
   "execution_count": null,
   "metadata": {},
   "outputs": [],
   "source": [
    "initial_parameters = {\n",
    "    \"a\": 0.2,\n",
    "    \"b\": 0.3,\n",
    "    \"c\": 0.4,\n",
    "    \"mu_0\": 0.3,\n",
    "    \"mu_1\": 3.2,\n",
    "    \"sigma_0\": 0.3,\n",
    "    \"sigma_1\": 0.4,\n",
    "}\n",
    "function_1d.update_parameters(initial_parameters)"
   ]
  },
  {
   "cell_type": "code",
   "execution_count": null,
   "metadata": {
    "tags": []
   },
   "outputs": [],
   "source": [
    "fig, ax = plt.subplots(figsize=(5, 3))\n",
    "ax.set_xlabel(\"$x$\")\n",
    "ax.set_yticks([])\n",
    "binning = np.linspace(0, 5, num=200)\n",
    "bin_values, *_ = ax.hist(data[\"x\"], bins=binning, alpha=0.7, density=True, label=\"data\")\n",
    "bin_centers = (binning[1:] + binning[:-1]) / 2\n",
    "plot_domain = {\"x\": bin_centers}\n",
    "lines = ax.plot(\n",
    "    bin_centers, function_1d(plot_domain), c=\"red\", linewidth=2, label=\"model\"\n",
    ")\n",
    "ax.legend(loc=\"upper right\")\n",
    "plt.show()"
   ]
  },
  {
   "cell_type": "code",
   "execution_count": null,
   "metadata": {},
   "outputs": [],
   "source": [
    "from tensorwaves.estimator import ChiSquared\n",
    "from tensorwaves.optimizer import Minuit2\n",
    "\n",
    "estimator = ChiSquared(\n",
    "    function_1d,\n",
    "    domain=plot_domain,\n",
    "    observed_values=bin_values,\n",
    "    backend=\"jax\",\n",
    ")\n",
    "optimizer = Minuit2()\n",
    "fit_result = optimizer.optimize(estimator, initial_parameters)\n",
    "fit_result"
   ]
  },
  {
   "cell_type": "code",
   "execution_count": null,
   "metadata": {},
   "outputs": [],
   "source": [
    "optimizer = Minuit2(\n",
    "    callback=FitAnimation(\n",
    "        data,\n",
    "        function_1d,\n",
    "        binning,\n",
    "        \"fit-animation.gif\",\n",
    "        estimated_iterations=290,\n",
    "        fps=25,\n",
    "    ),\n",
    ")\n",
    "fit_result = optimizer.optimize(estimator, initial_parameters)\n",
    "Image(\"fit-animation.gif\")"
   ]
  }
 ],
 "metadata": {
  "colab": {
   "toc_visible": true
  },
  "kernelspec": {
   "display_name": "Python 3 (ipykernel)",
   "language": "python",
   "name": "python3"
  },
  "language_info": {
   "codemirror_mode": {
    "name": "ipython",
    "version": 3
   },
   "file_extension": ".py",
   "mimetype": "text/x-python",
   "name": "python",
   "nbconvert_exporter": "python",
   "pygments_lexer": "ipython3",
   "version": "3.8.13"
  }
 },
 "nbformat": 4,
 "nbformat_minor": 4
}
