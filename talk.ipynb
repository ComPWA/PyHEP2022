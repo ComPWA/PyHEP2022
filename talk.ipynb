{
 "cells": [
  {
   "cell_type": "markdown",
   "id": "9d0ec68f",
   "metadata": {
    "slideshow": {
     "slide_type": "slide"
    }
   },
   "source": [
    "# The [ComPWA](https://compwa-org.rtfd.io) Project<div style=\"font-size:40pt;color:darkgray\">Speeding up differentiable programming with a Computer Algebra System</div>\n",
    "\n",
    "This notebook accompanies [these slides](https://docs.google.com/presentation/d/e/2PACX-1vRF-EG2B6u8a6Wb3--TY37bBEgM0bIxgNkCesokrTEwdQZbMwONMXOKqn5GZSirAIH9NXVv6v0ym_es/pub), which were [presented at PyHEP 2022](https://indico.cern.ch/event/1150631/contributions/5002013).\n",
    "\n",
    "It consists of three parts:\n",
    "1. <a href=\"#/1/0\">Formulating expressions with SymPy</a>\n",
    "2. <a href=\"#/2/0\">Intro to TensorWaves</a>\n",
    "3. <a href=\"#/4/0\">Amplitude analysis example</a> <font color=gray>(backup)</font>\n",
    "\n",
    "Please **execute this cell** before starting the notebook talk:"
   ]
  },
  {
   "cell_type": "code",
   "execution_count": null,
   "id": "ffe4f843",
   "metadata": {
    "jupyter": {
     "source_hidden": true
    },
    "tags": []
   },
   "outputs": [],
   "source": [
    "import logging\n",
    "import os\n",
    "\n",
    "import ipywidgets\n",
    "import jax.numpy as jnp\n",
    "import matplotlib.pyplot as plt\n",
    "import numpy as np\n",
    "import psutil\n",
    "import sympy as sp\n",
    "from ampform.io import aslatex\n",
    "from IPython.display import HTML, Image, Math, display\n",
    "from matplotlib import cm\n",
    "from matplotlib.animation import PillowWriter\n",
    "from tensorwaves.interface import DataSample, ParametrizedFunction\n",
    "from tensorwaves.optimizer.callbacks import Callback\n",
    "\n",
    "# Hide device warnings\n",
    "os.environ[\"TF_CPP_MIN_LOG_LEVEL\"] = \"3\"\n",
    "JAX_LOGGER = logging.getLogger(\"absl\")\n",
    "JAX_LOGGER.setLevel(logging.ERROR)\n",
    "\n",
    "# Increase font size\n",
    "PARENT_PROCESS = psutil.Process().parent().cmdline()[-1]\n",
    "ON_JUPYTER_LAB = \"jupyter-lab\" in PARENT_PROCESS\n",
    "if not ON_JUPYTER_LAB:\n",
    "    plt.rc(\"font\", size=20)\n",
    "    src = \"\"\"\n",
    "    <style>\n",
    "      /* Classical Jupyter notebook (RISE) */\n",
    "      div.output_subarea.output_latex.output_result { font-size: 36px; }\n",
    "\n",
    "      /* Jupyter Lab */\n",
    "      div.jp-OutputArea-output pre { font-size: 36px; }\n",
    "    </style>\n",
    "    \"\"\"\n",
    "    display(HTML(src))\n",
    "\n",
    "\n",
    "def remove_ipywidget_toolbars(fig) -> None:\n",
    "    fig.canvas.toolbar_visible = False\n",
    "    fig.canvas.header_visible = False\n",
    "    fig.canvas.footer_visible = False\n",
    "\n",
    "\n",
    "def plot_distributions():\n",
    "    fig, (ax1, ax2) = plt.subplots(figsize=(12, 7), ncols=2)\n",
    "    remove_ipywidget_toolbars(fig)\n",
    "    ax1.hist2d(*cartesian_data.values(), bins=200, cmap=plt.cm.coolwarm)\n",
    "    ax2.hist2d(polar_data[\"phi\"], polar_data[\"r\"], bins=100, cmap=plt.cm.coolwarm)\n",
    "    fig.suptitle(\"Hit-and-miss intensity distribution\")\n",
    "    ax1.set_title(\"cartesian\")\n",
    "    ax2.set_title(\"polar\")\n",
    "    ax1.set_xlabel(\"$x$\")\n",
    "    ax1.set_ylabel(\"$y$\")\n",
    "    ax2.set_xlabel(R\"$\\phi$\")\n",
    "    ax2.set_ylabel(\"$r$\")\n",
    "    ax1.set_xticks([])\n",
    "    ax1.set_yticks([])\n",
    "    ax2.set_xticks([-np.pi / 2, 0, np.pi / 2])\n",
    "    ax2.set_yticks([])\n",
    "    ax2.set_xticklabels([r\"$-\\frac{\\pi}{2}$\", \"0\", r\"$+\\frac{\\pi}{2}$\"])\n",
    "    fig.tight_layout()\n",
    "    plt.show()\n",
    "\n",
    "\n",
    "def plot_function_1d(\n",
    "    data: DataSample,\n",
    "    func: ParametrizedFunction,\n",
    "    domain: DataSample,\n",
    "    n_bins: int = 200,\n",
    "    variable: str = \"x\",\n",
    ") -> jnp.ndarray:\n",
    "    fig, ax = plt.subplots(figsize=(7, 4))\n",
    "    ax.set_xlabel(f\"${variable}$\")\n",
    "    ax.set_yticks([])\n",
    "    min_ = data[variable].min()\n",
    "    max_ = data[variable].max()\n",
    "    binning = jnp.linspace(min_, max_, num=n_bins)\n",
    "    bin_centers = (binning[1:] + binning[:-1]) / 2\n",
    "    bin_values_data, _ = jnp.histogram(\n",
    "        data[variable],\n",
    "        bins=binning,\n",
    "        density=True,\n",
    "    )\n",
    "    bin_values_func, _ = jnp.histogram(\n",
    "        domain[variable],\n",
    "        bins=binning,\n",
    "        density=True,\n",
    "        weights=func(domain).real,\n",
    "    )\n",
    "    ax.fill_between(\n",
    "        bin_centers,\n",
    "        bin_values_data,\n",
    "        alpha=0.5,\n",
    "        label=\"data\",\n",
    "        step=\"pre\",\n",
    "    )\n",
    "    ax.step(\n",
    "        bin_centers,\n",
    "        bin_values_func,\n",
    "        alpha=0.5,\n",
    "        color=\"red\",\n",
    "        label=\"model\",\n",
    "    )\n",
    "    ax.legend(loc=\"upper right\")\n",
    "    plt.show()\n",
    "    return bin_values_data, bin_centers\n",
    "\n",
    "\n",
    "def plot_interactive():\n",
    "    size = 200\n",
    "    X, Y = np.meshgrid(\n",
    "        np.linspace(-5, +5, size),\n",
    "        np.linspace(-5, +5, size),\n",
    "    )\n",
    "    cartesian_domain = {\"x\": X, \"y\": Y}\n",
    "    polar_domain = converter(cartesian_domain)\n",
    "\n",
    "    fig, ax_interactive = plt.subplots(figsize=(5, 5), tight_layout=True)\n",
    "    remove_ipywidget_toolbars(fig)\n",
    "    ax_interactive.set_xticks([])\n",
    "    ax_interactive.set_yticks([])\n",
    "    ax_interactive.set_xlabel(\"$x$\")\n",
    "    ax_interactive.set_ylabel(\"$y$\")\n",
    "    color_mesh = None\n",
    "\n",
    "    @ipywidgets.interact(\n",
    "        dphi=ipywidgets.FloatSlider(value=0, min=0, max=np.pi, step=np.pi / 100),\n",
    "        k_r=(0, 3.0, np.pi / 100),\n",
    "        k_phi=(0, 6),\n",
    "        sigma=(0.1, 5),\n",
    "    )\n",
    "    def plot(dphi, k_r, k_phi, sigma):\n",
    "        nonlocal color_mesh, X, Y\n",
    "        polar_function.update_parameters(\n",
    "            {R\"\\Delta\\phi\": dphi, \"k_r\": k_r, \"k_phi\": k_phi, \"sigma\": sigma}\n",
    "        )\n",
    "        Z = polar_function(polar_domain)\n",
    "        if color_mesh is not None:\n",
    "            color_mesh.remove()\n",
    "        color_mesh = ax_interactive.pcolormesh(X, Y, Z, cmap=plt.cm.coolwarm)\n",
    "\n",
    "\n",
    "def indicate_masses(ax):\n",
    "    ax.set_xlabel(R\"$M\\left(\\pi^0\\pi^0\\right)$ [GeV]\")\n",
    "    resonances = sorted(\n",
    "        reaction.get_intermediate_particles(),\n",
    "        key=lambda p: p.mass,\n",
    "    )\n",
    "    evenly_spaced_interval = np.linspace(0, 1, len(resonances))\n",
    "    colors = [plt.cm.rainbow(x) for x in evenly_spaced_interval]\n",
    "    for color, resonance in zip(colors, resonances):\n",
    "        ax.axvline(\n",
    "            x=resonance.mass,\n",
    "            linestyle=\"dotted\",\n",
    "            label=resonance.name,\n",
    "            color=color,\n",
    "        )\n",
    "\n",
    "\n",
    "def compare_model(n_bins=200) -> None:\n",
    "    fig, ax = plt.subplots(figsize=(14, 5))\n",
    "    remove_ipywidget_toolbars(fig)\n",
    "    variable_name = \"m_12\"\n",
    "    min_ = data[variable_name].real.min()\n",
    "    max_ = data[variable_name].real.max()\n",
    "    bin_edges = np.linspace(min_, max_, num=n_bins + 1)\n",
    "    bin_values_data, _ = jnp.histogram(\n",
    "        data[variable_name].real,\n",
    "        bins=bin_edges,\n",
    "        density=True,\n",
    "    )\n",
    "    bin_values_func, _ = jnp.histogram(\n",
    "        phsp[variable_name].real,\n",
    "        bins=bin_edges,\n",
    "        density=True,\n",
    "        weights=intensity_func(phsp),\n",
    "    )\n",
    "    ax.fill_between(\n",
    "        bin_edges[:-1],\n",
    "        bin_values_data,\n",
    "        alpha=0.5,\n",
    "        label=\"data\",\n",
    "        step=\"pre\",\n",
    "    )\n",
    "    ax.step(\n",
    "        bin_edges[:-1],\n",
    "        bin_values_func,\n",
    "        alpha=0.5,\n",
    "        color=\"red\",\n",
    "        label=\"fit model\",\n",
    "    )\n",
    "    indicate_masses(ax)\n",
    "    ax.legend()\n",
    "    plt.show()\n",
    "\n",
    "\n",
    "def plot_traceback(traceback_file: str) -> None:\n",
    "    with open(traceback_file) as f:\n",
    "        headers = eval(f\"[{f.readline()}]\")\n",
    "    fit_traceback = np.genfromtxt(\n",
    "        \"fit_traceback.csv\", delimiter=\",\", skip_header=1, dtype=complex\n",
    "    )\n",
    "    fit_traceback = fit_traceback.T\n",
    "    function_call = fit_traceback[1].real.astype(int)\n",
    "    estimator_values = fit_traceback[5].real\n",
    "    parameter_values = dict(zip(headers[6:], fit_traceback[6:].real))\n",
    "\n",
    "    fig, (ax1, ax2) = plt.subplots(\n",
    "        2, figsize=(15, 9), sharex=True, gridspec_kw={\"height_ratios\": [1, 2]}\n",
    "    )\n",
    "    remove_ipywidget_toolbars(fig)\n",
    "    ax1.plot(function_call, estimator_values)\n",
    "    for label, values in parameter_values.items():\n",
    "        ax2.plot(function_call, values, label=f\"${label}$\")\n",
    "    ax2.set_xlabel(\"function call\")\n",
    "    ax2.legend(bbox_to_anchor=(0.95, 1), loc=\"upper left\")\n",
    "    ax2.set_ylim(-0.1, +2.0)\n",
    "    fig.tight_layout()\n",
    "    plt.show()\n",
    "\n",
    "\n",
    "class FitAnimation(Callback):\n",
    "    def __init__(\n",
    "        self,\n",
    "        data: DataSample,\n",
    "        function: ParametrizedFunction,\n",
    "        domain: DataSample,\n",
    "        output_file: str,\n",
    "        estimated_iterations: int,\n",
    "        n_bins: int = 200,\n",
    "        fps: int = 25,\n",
    "        variable: str = \"x\",\n",
    "    ):\n",
    "        plt.ioff()\n",
    "        self.function = function\n",
    "        self.domain = domain\n",
    "        self.data = data\n",
    "        self.variable = variable\n",
    "\n",
    "        min_ = self.data[self.variable].min()\n",
    "        max_ = self.data[self.variable].max()\n",
    "        self.binning = jnp.linspace(min_, max_, num=n_bins)\n",
    "        self.bin_centers = (self.binning[1:] + self.binning[:-1]) / 2\n",
    "\n",
    "        self.fig, (self.ax1, self.ax2) = plt.subplots(\n",
    "            figsize=(10, 10), nrows=2, tight_layout=True\n",
    "        )\n",
    "\n",
    "        bin_values_data, _ = jnp.histogram(\n",
    "            self.data[self.variable],\n",
    "            bins=self.binning,\n",
    "            density=True,\n",
    "        )\n",
    "        self.ax1.fill_between(\n",
    "            self.bin_centers,\n",
    "            bin_values_data,\n",
    "            alpha=0.5,\n",
    "            label=\"data\",\n",
    "            step=\"pre\",\n",
    "        )\n",
    "\n",
    "        bin_values_func = self.__create_function_histogram()\n",
    "        self.line = self.ax1.step(\n",
    "            self.bin_centers,\n",
    "            bin_values_func,\n",
    "            alpha=0.5,\n",
    "            color=\"red\",\n",
    "            label=\"model\",\n",
    "        )[0]\n",
    "        self.ax1.legend(loc=\"upper right\")\n",
    "\n",
    "        self.par_lines = [\n",
    "            self.ax2.plot(0, value, label=par)[0]\n",
    "            for par, value in self.function.parameters.items()\n",
    "        ]\n",
    "        self.ax2.set_xlim(0, estimated_iterations)\n",
    "        self.ax2.set_title(\"Parameter values\")\n",
    "        self.ax2.legend(\n",
    "            [\n",
    "                f\"${sp.latex(sp.Symbol(par_name))}$\"\n",
    "                for par_name in self.function.parameters\n",
    "            ],\n",
    "            loc=\"upper right\",\n",
    "        )\n",
    "\n",
    "        self.__writer = PillowWriter(fps=fps)\n",
    "        self.__writer.setup(self.fig, outfile=output_file)\n",
    "\n",
    "    def on_optimize_start(self, logs):\n",
    "        self._update_plot()\n",
    "\n",
    "    def on_optimize_end(self, logs):\n",
    "        self._update_plot()\n",
    "        self.__writer.finish()\n",
    "        plt.close(self.fig)\n",
    "        plt.ion()\n",
    "\n",
    "    def on_iteration_end(self, iteration, logs):\n",
    "        self._update_plot()\n",
    "        self.__writer.finish()\n",
    "\n",
    "    def on_function_call_end(self, function_call, logs):\n",
    "        self._update_plot()\n",
    "\n",
    "    def _update_plot(self):\n",
    "        self._update_parametrization_plot()\n",
    "        self._update_traceback()\n",
    "        self.__writer.grab_frame()\n",
    "\n",
    "    def _update_parametrization_plot(self):\n",
    "        title = self._render_parameters(self.function.parameters)\n",
    "        self.ax1.set_title(title)\n",
    "        bin_values = self.__create_function_histogram()\n",
    "        self.line.set_ydata(bin_values)\n",
    "\n",
    "    def __create_function_histogram(self) -> jnp.ndarray:\n",
    "        bin_values_func, _ = jnp.histogram(\n",
    "            self.domain[self.variable],\n",
    "            bins=self.binning,\n",
    "            density=True,\n",
    "            weights=self.function(self.domain).real,\n",
    "        )\n",
    "        return bin_values_func\n",
    "\n",
    "    def _update_traceback(self):\n",
    "        for line in self.par_lines:\n",
    "            par_name = line.get_label()\n",
    "            new_value = self.function.parameters[par_name]\n",
    "            x = line.get_xdata()\n",
    "            x = [*x, x[-1] + 1]\n",
    "            y = [*line.get_ydata(), new_value]\n",
    "            line.set_xdata(x)\n",
    "            line.set_ydata(y)\n",
    "        y_values = np.array([line.get_ydata() for line in self.par_lines])\n",
    "        self.ax2.set_ylim(y_values.min() * 1.1, y_values.max() * 1.1)\n",
    "\n",
    "    @staticmethod\n",
    "    def _render_parameters(parameters):\n",
    "        values = []\n",
    "        for name, value in parameters.items():\n",
    "            symbol = sp.Dummy(name)\n",
    "            latex = sp.latex(symbol)\n",
    "            values.append(f\"{latex}={value:.2g}\")\n",
    "        return f'${\",\".join(values)}$'"
   ]
  },
  {
   "cell_type": "markdown",
   "id": "5f20e584",
   "metadata": {
    "slideshow": {
     "slide_type": "slide"
    }
   },
   "source": [
    "## Symbolic expressions"
   ]
  },
  {
   "cell_type": "markdown",
   "id": "4e315f3e",
   "metadata": {
    "slideshow": {
     "slide_type": "-"
    }
   },
   "source": [
    "[SymPy](https://www.sympy.org) expressions are build up by applying operations to [`Symbol`](https://docs.sympy.org/latest/modules/core.html#sympy.core.symbol.Symbol)s:"
   ]
  },
  {
   "cell_type": "code",
   "execution_count": null,
   "id": "ac3e1144",
   "metadata": {
    "slideshow": {
     "slide_type": "-"
    }
   },
   "outputs": [],
   "source": [
    "import sympy as sp\n",
    "\n",
    "x, n, mu, sigma = sp.symbols(\"x n mu sigma\")\n",
    "expression = n * sp.exp(-((x - mu) ** 2) / (2 * sigma**2))\n",
    "expression"
   ]
  },
  {
   "cell_type": "markdown",
   "id": "a1cd0570",
   "metadata": {
    "slideshow": {
     "slide_type": "fragment"
    }
   },
   "source": [
    "Computations with numbers are **exact**, but **not suitable for large numerical computations**:"
   ]
  },
  {
   "cell_type": "code",
   "execution_count": null,
   "id": "6b0f1beb",
   "metadata": {},
   "outputs": [],
   "source": [
    "expression.subs({n: 1, mu: 1 / 3, sigma: sp.sqrt(2)})"
   ]
  },
  {
   "cell_type": "markdown",
   "id": "a34b5b7a",
   "metadata": {
    "slideshow": {
     "slide_type": "subslide"
    }
   },
   "source": [
    "### From expression to numerical function"
   ]
  },
  {
   "cell_type": "markdown",
   "id": "bdb30b09",
   "metadata": {},
   "source": [
    "SymPy can convert symbolic expressions to a numerical function with `sympy.lambdify()`:"
   ]
  },
  {
   "cell_type": "code",
   "execution_count": null,
   "id": "3333b483",
   "metadata": {},
   "outputs": [],
   "source": [
    "func = sp.lambdify(\n",
    "    args=(x, n, mu, sigma),\n",
    "    expr=expression,\n",
    "    modules=\"numpy\",\n",
    ")"
   ]
  },
  {
   "cell_type": "markdown",
   "id": "4da0b623",
   "metadata": {
    "slideshow": {
     "slide_type": "fragment"
    }
   },
   "source": [
    "In this case, the resulting function is Python code for a NumPy function:"
   ]
  },
  {
   "cell_type": "code",
   "execution_count": null,
   "id": "a833d469",
   "metadata": {
    "slideshow": {
     "slide_type": "-"
    }
   },
   "outputs": [],
   "source": [
    "import inspect\n",
    "\n",
    "src = inspect.getsource(func)\n",
    "print(src)"
   ]
  },
  {
   "cell_type": "markdown",
   "id": "abc042f2",
   "metadata": {
    "slideshow": {
     "slide_type": "subslide"
    }
   },
   "source": [
    "This **numerical function** can be used for faster computations:"
   ]
  },
  {
   "cell_type": "code",
   "execution_count": null,
   "id": "af5ac8f6",
   "metadata": {
    "slideshow": {
     "slide_type": "-"
    }
   },
   "outputs": [],
   "source": [
    "import matplotlib.pyplot as plt\n",
    "import numpy as np\n",
    "\n",
    "x_array = np.linspace(-4.0, +4.0, num=1_000)\n",
    "y_array = func(x_array, n=1, mu=0.0, sigma=1.0)\n",
    "plt.plot(x_array, y_array);"
   ]
  },
  {
   "cell_type": "markdown",
   "id": "7ac42a7f",
   "metadata": {
    "slideshow": {
     "slide_type": "slide"
    }
   },
   "source": [
    "## Intro to TensorWaves\n",
    "\n",
    "[TensorWaves](https://tensorwaves.rtfd.io) is a [ComPWA](https://compwa-org.readthedocs.io) package that **streamlines this conversion from expressions to numerical functions**."
   ]
  },
  {
   "cell_type": "markdown",
   "id": "56b828b7",
   "metadata": {
    "slideshow": {
     "slide_type": "fragment"
    }
   },
   "source": [
    "Some responsibilities:\n",
    "- Facilitate JIT-compilation etc. for backends like JAX\n",
    "- **Improve argument handling** for complicated expressions and symbol names\n",
    "- **Parametrize functions** for fitting\n",
    "- Facilitate **data generation**\n",
    "- Facilitate **data transformation**"
   ]
  },
  {
   "cell_type": "markdown",
   "id": "a65d3bf2",
   "metadata": {
    "slideshow": {
     "slide_type": "slide"
    }
   },
   "source": [
    "### Lambdification to other backends\n",
    "\n",
    "[TensorWaves](https://tensorwaves.rtfd.io) is a [ComPWA](https://compwa-org.readthedocs.io) package that **streamlines this conversion from expressions to numerical functions**"
   ]
  },
  {
   "cell_type": "code",
   "execution_count": null,
   "id": "ba06e187",
   "metadata": {},
   "outputs": [],
   "source": [
    "x, y = sp.symbols(\"x y\")\n",
    "expr_2d = x**3 + sp.sin(sp.pi * y) ** 2 / 5\n",
    "expr_2d"
   ]
  },
  {
   "cell_type": "code",
   "execution_count": null,
   "id": "9ed720fa",
   "metadata": {
    "slideshow": {
     "slide_type": "-"
    }
   },
   "outputs": [],
   "source": [
    "from tensorwaves.function.sympy import create_function\n",
    "\n",
    "numpy_function = create_function(expr_2d, backend=\"numpy\")\n",
    "tf_function = create_function(expr_2d, backend=\"tensorflow\")\n",
    "jax_function = create_function(expr_2d, backend=\"jax\")"
   ]
  },
  {
   "cell_type": "markdown",
   "id": "0db46ddd",
   "metadata": {
    "slideshow": {
     "slide_type": "subslide"
    }
   },
   "source": [
    "To allow for multidimensional expressions and more complicated `Symbol` names, functions take a `dict` of data as input:"
   ]
  },
  {
   "cell_type": "code",
   "execution_count": null,
   "id": "7d1b572a",
   "metadata": {},
   "outputs": [],
   "source": [
    "sample_size = 1_000_000\n",
    "data = {\n",
    "    \"x\": np.random.uniform(-50, +50, sample_size),\n",
    "    \"y\": np.random.uniform(0.1, 2.0, sample_size),\n",
    "}"
   ]
  },
  {
   "cell_type": "code",
   "execution_count": null,
   "id": "4600d14b",
   "metadata": {},
   "outputs": [],
   "source": [
    "numpy_function(data)"
   ]
  },
  {
   "cell_type": "code",
   "execution_count": null,
   "id": "f8f1c934",
   "metadata": {},
   "outputs": [],
   "source": [
    "tf_function(data)"
   ]
  },
  {
   "cell_type": "code",
   "execution_count": null,
   "id": "e2ecf403",
   "metadata": {},
   "outputs": [],
   "source": [
    "jax_function(data)"
   ]
  },
  {
   "cell_type": "markdown",
   "id": "ce2046b2",
   "metadata": {
    "slideshow": {
     "slide_type": "subslide"
    }
   },
   "source": [
    "### Function parametrization\n",
    "\n",
    "TensorWaves is intended to **optimize parameters** in a model. We therefore need to distinguish which symbols are data input **variables** and **parameters**"
   ]
  },
  {
   "cell_type": "code",
   "execution_count": null,
   "id": "329423f0",
   "metadata": {},
   "outputs": [],
   "source": [
    "r, phi, dphi, k_phi, k_r, sigma = sp.symbols(R\"r phi \\Delta\\phi k_phi k_r sigma\")\n",
    "expression = (\n",
    "    sp.exp(-r / sigma) * sp.sin(k_r * r) ** 2 * sp.cos(k_phi * (phi + dphi)) ** 2\n",
    ")\n",
    "expression"
   ]
  },
  {
   "cell_type": "code",
   "execution_count": null,
   "id": "ac376abe",
   "metadata": {
    "slideshow": {
     "slide_type": "fragment"
    }
   },
   "outputs": [],
   "source": [
    "from tensorwaves.function.sympy import create_parametrized_function\n",
    "\n",
    "polar_function = create_parametrized_function(\n",
    "    expression,\n",
    "    parameters={dphi: 0, k_r: 0.6, k_phi: 2, sigma: 2.5},\n",
    "    backend=\"jax\",\n",
    ")\n",
    "polar_function.parameters"
   ]
  },
  {
   "cell_type": "markdown",
   "id": "7fed3596",
   "metadata": {
    "slideshow": {
     "slide_type": "subslide"
    }
   },
   "source": [
    "### Data transformation"
   ]
  },
  {
   "cell_type": "markdown",
   "id": "c0aedbf7",
   "metadata": {},
   "source": [
    "TensorWaves also makes it easier to transform data sets to a different representation"
   ]
  },
  {
   "cell_type": "code",
   "execution_count": null,
   "id": "3d043b06",
   "metadata": {},
   "outputs": [],
   "source": [
    "cartesian_to_polar = {\n",
    "    r: sp.sqrt(x**2 + y**2),\n",
    "    phi: sp.Piecewise((0, sp.Eq(x, 0)), (sp.atan(y / x), True)),\n",
    "}\n",
    "Math(aslatex(cartesian_to_polar))"
   ]
  },
  {
   "cell_type": "code",
   "execution_count": null,
   "id": "093d9343",
   "metadata": {},
   "outputs": [],
   "source": [
    "from tensorwaves.data import SympyDataTransformer\n",
    "\n",
    "converter = SympyDataTransformer.from_sympy(cartesian_to_polar, backend=\"jax\")\n",
    "converter.functions"
   ]
  },
  {
   "cell_type": "markdown",
   "id": "6a8827c8",
   "metadata": {
    "slideshow": {
     "slide_type": "subslide"
    },
    "tags": []
   },
   "source": [
    "### Data generation\n",
    "\n",
    "We now have all the tools to generate data based on our function with a **hit & miss strategy**:"
   ]
  },
  {
   "cell_type": "code",
   "execution_count": null,
   "id": "6c79a81a",
   "metadata": {},
   "outputs": [],
   "source": [
    "from tensorwaves.data import (\n",
    "    IntensityDistributionGenerator,\n",
    "    NumpyDomainGenerator,\n",
    "    NumpyUniformRNG,\n",
    ")\n",
    "\n",
    "rng = NumpyUniformRNG()\n",
    "domain_generator = NumpyDomainGenerator(boundaries={\"x\": (-5, 5), \"y\": (-5, +5)})\n",
    "data_generator = IntensityDistributionGenerator(\n",
    "    domain_generator,\n",
    "    function=polar_function,\n",
    "    domain_transformer=converter,\n",
    ")\n",
    "cartesian_data = data_generator.generate(1_000_000, rng)\n",
    "polar_data = converter(cartesian_data)\n",
    "polar_data"
   ]
  },
  {
   "cell_type": "markdown",
   "id": "ad58754a",
   "metadata": {
    "slideshow": {
     "slide_type": "subslide"
    }
   },
   "source": [
    "What does it look like...?"
   ]
  },
  {
   "cell_type": "code",
   "execution_count": null,
   "id": "a2782aa1",
   "metadata": {
    "slideshow": {
     "slide_type": "-"
    }
   },
   "outputs": [],
   "source": [
    "plot_distributions()  # <-- function with matplotlib code"
   ]
  },
  {
   "cell_type": "markdown",
   "id": "0ec19c8f",
   "metadata": {
    "slideshow": {
     "slide_type": "subslide"
    }
   },
   "source": [
    "Finally, using the fact that the function is **parametrized** 🙌"
   ]
  },
  {
   "cell_type": "code",
   "execution_count": null,
   "id": "72884398",
   "metadata": {},
   "outputs": [],
   "source": [
    "polar_function.parameters"
   ]
  },
  {
   "cell_type": "code",
   "execution_count": null,
   "id": "a3b1b6e5",
   "metadata": {},
   "outputs": [],
   "source": [
    "%matplotlib widget\n",
    "plot_interactive()  # <-- function with ipywidgets code"
   ]
  },
  {
   "cell_type": "markdown",
   "id": "5d6966fb",
   "metadata": {},
   "source": [
    "&nbsp;"
   ]
  },
  {
   "cell_type": "markdown",
   "id": "59546d03-39c4-4439-b366-fd2fae23beb9",
   "metadata": {
    "slideshow": {
     "slide_type": "subslide"
    },
    "tags": []
   },
   "source": [
    "### Optimizing parameters"
   ]
  },
  {
   "cell_type": "markdown",
   "id": "5a0b5396-4895-4a83-9536-2086257e5715",
   "metadata": {},
   "source": [
    "Let's try to fit such a `ParametrizedFunction`. We'll generate a data distribution for this sum of Gaussians and a Poisson:"
   ]
  },
  {
   "cell_type": "code",
   "execution_count": null,
   "id": "61ae02de-f54c-41b1-8043-b03acf293ed9",
   "metadata": {},
   "outputs": [],
   "source": [
    "def gaussian(x, mu, sigma) -> sp.Expr:\n",
    "    return sp.exp(-(((x - mu) / sigma) ** 2) / 2)\n",
    "\n",
    "\n",
    "def poisson(x, k) -> sp.Expr:\n",
    "    return x**k * sp.exp(-x) / sp.factorial(k)\n",
    "\n",
    "\n",
    "x, a, b, c, μ1, μ2, σ1, σ2 = sp.symbols(\"x a:c mu(1:3) sigma(1:3)\")\n",
    "expr_1d = a * gaussian(x, μ1, σ1) + b * gaussian(x, μ2, σ2) + c * poisson(x, k=2)\n",
    "expr_1d"
   ]
  },
  {
   "cell_type": "markdown",
   "id": "93ba8f8e-d567-4a38-a39d-e5cde4cff671",
   "metadata": {
    "slideshow": {
     "slide_type": "subslide"
    },
    "tags": []
   },
   "source": [
    "Again, we identify certain `Symbol`s as parameters:"
   ]
  },
  {
   "cell_type": "code",
   "execution_count": null,
   "id": "c1e580b7-0143-4ec8-958e-8f49407a3e1a",
   "metadata": {},
   "outputs": [],
   "source": [
    "func_1d = create_parametrized_function(\n",
    "    expression=expr_1d,\n",
    "    parameters={\n",
    "        a: 0.15,\n",
    "        b: 0.05,\n",
    "        c: 0.3,\n",
    "        μ1: 1.0,\n",
    "        σ1: 0.3,\n",
    "        μ2: 2.7,\n",
    "        σ2: 0.5,\n",
    "    },\n",
    "    backend=\"jax\",\n",
    ")"
   ]
  },
  {
   "cell_type": "markdown",
   "id": "48b3e35e-6e11-425e-8516-31f283c73770",
   "metadata": {
    "slideshow": {
     "slide_type": "fragment"
    },
    "tags": []
   },
   "source": [
    "And generate a (deterministic) domain and hist-and-miss data sample:"
   ]
  },
  {
   "cell_type": "code",
   "execution_count": null,
   "id": "214209fe-5e55-464a-8821-5db831835b04",
   "metadata": {},
   "outputs": [],
   "source": [
    "rng = NumpyUniformRNG(seed=0)\n",
    "domain_generator = NumpyDomainGenerator(boundaries={\"x\": (0, 5)})\n",
    "domain = domain_generator.generate(1_000_000, rng)"
   ]
  },
  {
   "cell_type": "code",
   "execution_count": null,
   "id": "9511e5e3-3513-465c-9e95-18f873c3e9be",
   "metadata": {},
   "outputs": [],
   "source": [
    "data_generator = IntensityDistributionGenerator(domain_generator, func_1d)\n",
    "data = data_generator.generate(100_000, rng)"
   ]
  },
  {
   "cell_type": "markdown",
   "id": "e428e5ac-9430-42e3-bfc9-878209ad36fc",
   "metadata": {
    "slideshow": {
     "slide_type": "subslide"
    },
    "tags": []
   },
   "source": [
    "Next, we update the parameters with some nonsensical values so that the model clearly mismatches the data distribution:"
   ]
  },
  {
   "cell_type": "code",
   "execution_count": null,
   "id": "600079d6-eaad-4712-acea-ebb9578e1377",
   "metadata": {},
   "outputs": [],
   "source": [
    "initial_parameters = {\n",
    "    \"a\": 0.2,\n",
    "    \"b\": 0.3,\n",
    "    \"c\": 0.4,\n",
    "    \"mu1\": 0.3,\n",
    "    \"mu2\": 3.2,\n",
    "    \"sigma1\": 0.3,\n",
    "    \"sigma2\": 0.4,\n",
    "}\n",
    "func_1d.update_parameters(initial_parameters)"
   ]
  },
  {
   "cell_type": "code",
   "execution_count": null,
   "id": "775b8cf9-553a-4da6-9b89-87daa45c7148",
   "metadata": {
    "tags": []
   },
   "outputs": [],
   "source": [
    "%matplotlib inline\n",
    "bin_values, bin_centers = plot_function_1d(data, func_1d, domain)"
   ]
  },
  {
   "cell_type": "markdown",
   "id": "3b52e8d1",
   "metadata": {},
   "source": [
    "&nbsp;"
   ]
  },
  {
   "cell_type": "markdown",
   "id": "23e9a868-8ac9-4e31-8fbd-1735ab29d48f",
   "metadata": {
    "slideshow": {
     "slide_type": "subslide"
    },
    "tags": []
   },
   "source": [
    "To fit the distribution, we construct an **estimator** for the difference between model and distribution as well as an **optimizer** that will optimize the model parameters:"
   ]
  },
  {
   "cell_type": "code",
   "execution_count": null,
   "id": "c2e0a580-5154-4b15-8813-52bd7faff723",
   "metadata": {},
   "outputs": [],
   "source": [
    "from tensorwaves.estimator import ChiSquared\n",
    "from tensorwaves.optimizer import Minuit2\n",
    "\n",
    "estimator = ChiSquared(\n",
    "    func_1d,\n",
    "    domain={\"x\": bin_centers},\n",
    "    observed_values=bin_values,\n",
    "    backend=\"jax\",\n",
    ")\n",
    "optimizer = Minuit2()\n",
    "fit_result = optimizer.optimize(estimator, initial_parameters)\n",
    "fit_result"
   ]
  },
  {
   "cell_type": "markdown",
   "id": "1dd397ca-6251-4993-ac19-04fe1af7486b",
   "metadata": {
    "slideshow": {
     "slide_type": "subslide"
    },
    "tags": []
   },
   "source": [
    "After updating the parameter values in the function, the model indeed matches the distribution again!"
   ]
  },
  {
   "cell_type": "code",
   "execution_count": null,
   "id": "00414987-ee4c-4ed4-ad79-100ffc770af1",
   "metadata": {},
   "outputs": [],
   "source": [
    "func_1d.update_parameters(fit_result.parameter_values)\n",
    "_ = plot_function_1d(data, func_1d, domain)"
   ]
  },
  {
   "cell_type": "markdown",
   "id": "3d9a8c75-0645-438a-9f02-ef1159bbf6d9",
   "metadata": {},
   "source": [
    "&nbsp;"
   ]
  },
  {
   "cell_type": "markdown",
   "id": "116079ed-b096-41bd-9bee-4e7cb91ce763",
   "metadata": {
    "slideshow": {
     "slide_type": "subslide"
    },
    "tags": []
   },
   "source": [
    "You can also **insert behavior into the optimization process**. Here we use it to visualize the optimization.<br>\n",
    "(It slows down the fit process though.)"
   ]
  },
  {
   "cell_type": "code",
   "execution_count": null,
   "id": "74f72797-c5d6-4a63-8313-94446155a872",
   "metadata": {},
   "outputs": [],
   "source": [
    "animated_optimizer = Minuit2(\n",
    "    callback=FitAnimation(\n",
    "        function=func_1d,\n",
    "        data=data,\n",
    "        domain=domain,\n",
    "        output_file=\"fit-animation.gif\",\n",
    "        estimated_iterations=fit_result.function_calls,\n",
    "    ),\n",
    ")\n",
    "animated_optimizer.optimize(estimator, initial_parameters)\n",
    "Image(\"fit-animation.gif\")"
   ]
  },
  {
   "cell_type": "markdown",
   "id": "114d0cc9",
   "metadata": {},
   "source": [
    "&nbsp;"
   ]
  },
  {
   "cell_type": "markdown",
   "id": "583dcec9",
   "metadata": {
    "slideshow": {
     "slide_type": "slide"
    }
   },
   "source": [
    "## Larger expressions ― amplitude analysis"
   ]
  },
  {
   "cell_type": "markdown",
   "id": "d802d5a9",
   "metadata": {},
   "source": [
    "### Model formulation\n",
    "\n",
    "Amplitude model formulated is automated and standardized with two ComPWA libraries\n",
    "- [QRules](https://qrules.rtfd.io): generate allowed particle transitions\n",
    "- [AmpForm](https://ampform.rtfd.io): symbolic expressions for dynamics and spin formalisms\n",
    "\n",
    "In this section we will:\n",
    "1. Generate a symbolic amplitude model\n",
    "2. Generate a toy MC data distribution\n",
    "3. Tweak the parameters a bit and fit the model to optimize them again to their expected value"
   ]
  },
  {
   "cell_type": "markdown",
   "id": "a0395218",
   "metadata": {
    "slideshow": {
     "slide_type": "subslide"
    }
   },
   "source": [
    "QRules automatically finds all allowed transitions between some initial and final state.\n",
    "\n",
    "Simple example:"
   ]
  },
  {
   "cell_type": "code",
   "execution_count": null,
   "id": "822f34b0",
   "metadata": {},
   "outputs": [],
   "source": [
    "import qrules\n",
    "\n",
    "reaction = qrules.generate_transitions(\n",
    "    initial_state=(\"J/psi(1S)\", [-1, +1]),\n",
    "    final_state=[\"gamma\", \"pi0\", \"pi0\"],\n",
    "    allowed_intermediate_particles=[\"f(0)\"],  # optional\n",
    "    allowed_interaction_types=[\"strong\", \"EM\"],  # optional\n",
    "    formalism=\"helicity\",\n",
    ")"
   ]
  },
  {
   "cell_type": "code",
   "execution_count": null,
   "id": "34b324e2",
   "metadata": {
    "slideshow": {
     "slide_type": "-"
    }
   },
   "outputs": [],
   "source": [
    "import graphviz\n",
    "\n",
    "dot = qrules.io.asdot(reaction, collapse_graphs=True)\n",
    "graphviz.Source(dot)"
   ]
  },
  {
   "cell_type": "markdown",
   "id": "05f383d7",
   "metadata": {
    "slideshow": {
     "slide_type": "subslide"
    }
   },
   "source": [
    "We can now use AmpForm to formulate an amplitude model for these transitions"
   ]
  },
  {
   "cell_type": "code",
   "execution_count": null,
   "id": "716274d5",
   "metadata": {},
   "outputs": [],
   "source": [
    "import ampform\n",
    "from ampform.dynamics.builder import (\n",
    "    create_non_dynamic_with_ff,\n",
    "    create_relativistic_breit_wigner_with_ff,\n",
    ")\n",
    "\n",
    "model_builder = ampform.get_builder(reaction)\n",
    "model_builder.set_dynamics(\"J/psi(1S)\", create_non_dynamic_with_ff)\n",
    "for name in reaction.get_intermediate_particles().names:\n",
    "    model_builder.set_dynamics(name, create_relativistic_breit_wigner_with_ff)\n",
    "model = model_builder.formulate()\n",
    "model.intensity"
   ]
  },
  {
   "cell_type": "code",
   "execution_count": null,
   "id": "06e69316-05fe-4de0-ad9a-ad696f41a897",
   "metadata": {},
   "outputs": [],
   "source": [
    "Math(aslatex(model.amplitudes))"
   ]
  },
  {
   "cell_type": "markdown",
   "id": "6e09d002",
   "metadata": {
    "slideshow": {
     "slide_type": "subslide"
    }
   },
   "source": [
    "For an amplitude analysis, this example is rather simple, but the full expression is large enough that we can illustrate **CAS simplification**"
   ]
  },
  {
   "cell_type": "code",
   "execution_count": null,
   "id": "434f3aab",
   "metadata": {},
   "outputs": [],
   "source": [
    "full_intensity_expr = model.expression.doit()\n",
    "sp.count_ops(full_intensity_expr)"
   ]
  },
  {
   "cell_type": "markdown",
   "id": "fb966c2d",
   "metadata": {
    "slideshow": {
     "slide_type": "fragment"
    }
   },
   "source": [
    "Can we simplify the full expression? Here's what one of the nodes looks like:"
   ]
  },
  {
   "cell_type": "code",
   "execution_count": null,
   "id": "2c4491be",
   "metadata": {},
   "outputs": [],
   "source": [
    "full_intensity_expr.args[0].args[0].args[0].args[0]"
   ]
  },
  {
   "cell_type": "markdown",
   "id": "519952bf",
   "metadata": {
    "slideshow": {
     "slide_type": "subslide"
    }
   },
   "source": [
    "Imagine we want to fit this model to a data distribution and **only** want to optimize these parameters:"
   ]
  },
  {
   "cell_type": "code",
   "execution_count": null,
   "id": "8a1ab6c4",
   "metadata": {},
   "outputs": [],
   "source": [
    "initial_parameters = {\n",
    "    R\"C_{J/\\psi(1S) \\to {f_{0}(1500)}_{0} \\gamma_{+1}; f_{0}(1500) \\to \\pi^{0}_{0} \\pi^{0}_{0}}\": 1.0\n",
    "    + 0.0j,\n",
    "    \"m_{f_{0}(500)}\": 0.4,\n",
    "    \"m_{f_{0}(980)}\": 0.88,\n",
    "    \"m_{f_{0}(1370)}\": 1.22,\n",
    "    \"m_{f_{0}(1500)}\": 1.45,\n",
    "    \"m_{f_{0}(1710)}\": 1.83,\n",
    "    R\"\\Gamma_{f_{0}(500)}\": 0.3,\n",
    "    R\"\\Gamma_{f_{0}(980)}\": 0.1,\n",
    "    R\"\\Gamma_{f_{0}(1710)}\": 0.3,\n",
    "}"
   ]
  },
  {
   "cell_type": "markdown",
   "id": "bf1427df",
   "metadata": {
    "slideshow": {
     "slide_type": "fragment"
    }
   },
   "source": [
    "Remaining symbols in the model can now be **analytically substituted** with their suggested parameter value:"
   ]
  },
  {
   "cell_type": "code",
   "execution_count": null,
   "id": "63c27ef4",
   "metadata": {},
   "outputs": [],
   "source": [
    "free_parameters = {p for p in model.parameter_defaults if p.name in initial_parameters}\n",
    "fixed_parameters = {\n",
    "    par: value\n",
    "    for par, value in model.parameter_defaults.items()\n",
    "    if par not in free_parameters\n",
    "}\n",
    "substituted_expression = full_intensity_expr.subs(fixed_parameters)"
   ]
  },
  {
   "cell_type": "markdown",
   "id": "0c44501d",
   "metadata": {
    "slideshow": {
     "slide_type": "subslide"
    }
   },
   "source": [
    "The effect of substitution:"
   ]
  },
  {
   "cell_type": "code",
   "execution_count": null,
   "id": "27354161",
   "metadata": {
    "slideshow": {
     "slide_type": "-"
    }
   },
   "outputs": [],
   "source": [
    "full_intensity_expr.args[0].args[0].args[0].args[0]"
   ]
  },
  {
   "cell_type": "code",
   "execution_count": null,
   "id": "7a095ea1",
   "metadata": {
    "slideshow": {
     "slide_type": "-"
    }
   },
   "outputs": [],
   "source": [
    "substituted_expression.args[0].args[0].args[0].args[0]"
   ]
  },
  {
   "cell_type": "markdown",
   "id": "a544986e",
   "metadata": {
    "slideshow": {
     "slide_type": "subslide"
    }
   },
   "source": [
    "### Numerical computations"
   ]
  },
  {
   "cell_type": "code",
   "execution_count": null,
   "id": "591c35d9",
   "metadata": {},
   "outputs": [],
   "source": [
    "from tensorwaves.function.sympy import create_parametrized_function\n",
    "\n",
    "intensity_func = create_parametrized_function(\n",
    "    substituted_expression,\n",
    "    parameters=model.parameter_defaults,\n",
    "    backend=\"jax\",\n",
    ")"
   ]
  },
  {
   "cell_type": "markdown",
   "id": "97b766c8",
   "metadata": {
    "slideshow": {
     "slide_type": "subslide"
    }
   },
   "source": [
    "### Data generation\n",
    "\n",
    "TensorWaves interfaces to the [`phasespace`](https://phasespace.readthedocs.io) package to generate a phase space sample"
   ]
  },
  {
   "cell_type": "code",
   "execution_count": null,
   "id": "340d79af",
   "metadata": {},
   "outputs": [],
   "source": [
    "from tensorwaves.data import TFPhaseSpaceGenerator, TFUniformRealNumberGenerator\n",
    "\n",
    "rng = TFUniformRealNumberGenerator(seed=0)\n",
    "phsp_generator = TFPhaseSpaceGenerator(\n",
    "    initial_state_mass=reaction.initial_state[-1].mass,\n",
    "    final_state_masses={i: p.mass for i, p in reaction.final_state.items()},\n",
    ")\n",
    "phsp_momenta = phsp_generator.generate(1_000_000, rng)  # small size for binder\n",
    "list(phsp_momenta)"
   ]
  },
  {
   "cell_type": "markdown",
   "id": "35967cd6",
   "metadata": {
    "slideshow": {
     "slide_type": "subslide"
    }
   },
   "source": [
    "Our intensity function takes helicity angles and masses as input, so we need to **transform our generated four-momenta to these kinematic variables**. Just like cartesian to polar coordinates!"
   ]
  },
  {
   "cell_type": "code",
   "execution_count": null,
   "id": "20063232",
   "metadata": {
    "slideshow": {
     "slide_type": "-"
    }
   },
   "outputs": [],
   "source": [
    "from tensorwaves.data import SympyDataTransformer\n",
    "\n",
    "helicity_transformer = SympyDataTransformer.from_sympy(\n",
    "    model.kinematic_variables, backend=\"jax\"\n",
    ")"
   ]
  },
  {
   "cell_type": "markdown",
   "id": "51fbfb89",
   "metadata": {
    "slideshow": {
     "slide_type": "subslide"
    }
   },
   "source": [
    "We now have all the components to generate a **hit & miss** distribution based on the intensity function:"
   ]
  },
  {
   "cell_type": "code",
   "execution_count": null,
   "id": "a3e59a27",
   "metadata": {
    "slideshow": {
     "slide_type": "-"
    }
   },
   "outputs": [],
   "source": [
    "from tensorwaves.data import TFWeightedPhaseSpaceGenerator\n",
    "\n",
    "data_generator = IntensityDistributionGenerator(\n",
    "    domain_generator=phsp_generator,\n",
    "    function=intensity_func,\n",
    "    domain_transformer=helicity_transformer,\n",
    ")\n",
    "data_momenta = data_generator.generate(100_000, rng)  # small size for binder\n",
    "list(data_momenta)"
   ]
  },
  {
   "cell_type": "code",
   "execution_count": null,
   "id": "b66be65f",
   "metadata": {
    "slideshow": {
     "slide_type": "-"
    }
   },
   "outputs": [],
   "source": [
    "phsp = helicity_transformer(phsp_momenta)\n",
    "data = helicity_transformer(data_momenta)\n",
    "list(data)"
   ]
  },
  {
   "cell_type": "markdown",
   "id": "36971f37",
   "metadata": {
    "slideshow": {
     "slide_type": "slide"
    }
   },
   "source": [
    "### Fitting the model\n",
    "\n",
    "Our model with **modified parameters** now looks as follows:"
   ]
  },
  {
   "cell_type": "code",
   "execution_count": null,
   "id": "7d981e32-5103-4a77-806d-2aed1cd3fd4b",
   "metadata": {
    "slideshow": {
     "slide_type": "-"
    }
   },
   "outputs": [],
   "source": [
    "original_parameters = intensity_func.parameters\n",
    "intensity_func.update_parameters(initial_parameters)\n",
    "compare_model()"
   ]
  },
  {
   "cell_type": "markdown",
   "id": "e91960f8",
   "metadata": {
    "slideshow": {
     "slide_type": "subslide"
    }
   },
   "source": [
    "Let's use [`iminuit`](https://iminuit.rtfd.io) to optimize these parameters so that the model fits the distribution:"
   ]
  },
  {
   "cell_type": "code",
   "execution_count": null,
   "id": "0ea9f599",
   "metadata": {},
   "outputs": [],
   "source": [
    "from tensorwaves.estimator import UnbinnedNLL\n",
    "from tensorwaves.optimizer import Minuit2\n",
    "from tensorwaves.optimizer.callbacks import CSVSummary\n",
    "\n",
    "estimator = UnbinnedNLL(intensity_func, data, phsp, backend=\"jax\")\n",
    "minuit2 = Minuit2(callback=CSVSummary(\"fit_traceback.csv\"))\n",
    "fit_result = minuit2.optimize(estimator, initial_parameters)\n",
    "fit_result"
   ]
  },
  {
   "cell_type": "markdown",
   "id": "404e6f81",
   "metadata": {
    "slideshow": {
     "slide_type": "subslide"
    }
   },
   "source": [
    "With the optimized parameters, the distribution looks like:"
   ]
  },
  {
   "cell_type": "code",
   "execution_count": null,
   "id": "09836680",
   "metadata": {},
   "outputs": [],
   "source": [
    "intensity_func.update_parameters(original_parameters)\n",
    "compare_model()"
   ]
  },
  {
   "cell_type": "markdown",
   "id": "8fa26aed",
   "metadata": {
    "slideshow": {
     "slide_type": "subslide"
    }
   },
   "source": [
    "Callbacks allow us to insert behavior in each fit iteration. In this case, we have recorded the parameter values during each optimization step:"
   ]
  },
  {
   "cell_type": "code",
   "execution_count": null,
   "id": "dc4af345",
   "metadata": {
    "slideshow": {
     "slide_type": "-"
    }
   },
   "outputs": [],
   "source": [
    "plot_traceback(\"fit_traceback.csv\")"
   ]
  },
  {
   "cell_type": "markdown",
   "id": "c3b60c51",
   "metadata": {
    "slideshow": {
     "slide_type": "subslide"
    }
   },
   "source": [
    "Other optimizer functionality is available through the optimizer that has been used."
   ]
  },
  {
   "cell_type": "code",
   "execution_count": null,
   "id": "2c374942",
   "metadata": {
    "slideshow": {
     "slide_type": "-"
    }
   },
   "outputs": [],
   "source": [
    "covariance_matrix = fit_result.specifics.covariance\n",
    "covariance_matrix.correlation()"
   ]
  }
 ],
 "metadata": {
  "kernelspec": {
   "display_name": "Python 3 (ipykernel)",
   "language": "python",
   "name": "python3"
  },
  "language_info": {
   "codemirror_mode": {
    "name": "ipython",
    "version": 3
   },
   "file_extension": ".py",
   "mimetype": "text/x-python",
   "name": "python",
   "nbconvert_exporter": "python",
   "pygments_lexer": "ipython3",
   "version": "3.8.13"
  },
  "rise": {
   "autolaunch": true,
   "scroll": true,
   "transition": "none"
  }
 },
 "nbformat": 4,
 "nbformat_minor": 5
}
